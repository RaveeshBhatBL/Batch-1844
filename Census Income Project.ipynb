{
 "cells": [
  {
   "cell_type": "markdown",
   "id": "50412616",
   "metadata": {},
   "source": [
    "# Census Income Project\n",
    "Problem Statement:\n",
    "\n",
    "This data was extracted from the 1994 Census bureau database by Ronny Kohavi and Barry Becker (Data Mining and Visualization, Silicon Graphics). A set of reasonably clean records was extracted using the following conditions: ((AAGE>16) && (AGI>100) && (AFNLWGT>1) && (HRSWK>0)). The prediction task is to determine whether a person makes over $50K a year.\n",
    "\n",
    "Description of fnlwgt (final weight)\n",
    "The weights on the Current Population Survey (CPS) files are controlled to independent estimates of the civilian non-institutional population of the US. These are prepared monthly for us by Population Division here at the Census Bureau. We use 3 sets of controls. These are:\n",
    "\n",
    "1.A single cell estimate of the population 16+ for each state.\n",
    "\n",
    "2.Controls for Hispanic Origin by age and sex.\n",
    "\n",
    "3.Controls by Race, age and sex.\n",
    "\n",
    "We use all three sets of controls in our weighting program and \"rake\" through them 6 times so that by the end we come back to all the controls we used. The term estimate refers to population totals derived from CPS by creating \"weighted tallies\" of any specified socio-economic characteristics of the population. People with similar demographic characteristics should have similar weights. There is one important caveat to remember about this statement. That is that since the CPS sample is actually a collection of 51 state samples, each with its own probability of selection, the statement only applies within state.\n",
    "\n"
   ]
  },
  {
   "cell_type": "markdown",
   "id": "6d1f408e",
   "metadata": {},
   "source": [
    "# Importing the required libraries"
   ]
  },
  {
   "cell_type": "code",
   "execution_count": 1,
   "id": "0eef2757",
   "metadata": {},
   "outputs": [],
   "source": [
    "import pandas as pd\n",
    "import numpy as np\n",
    "import matplotlib.pyplot as plt\n",
    "import seaborn as sns\n",
    "from sklearn.preprocessing import LabelEncoder\n",
    "from sklearn.model_selection import train_test_split\n",
    "from sklearn.metrics import f1_score, accuracy_score\n",
    "from sklearn.naive_bayes import GaussianNB\n",
    "from sklearn.linear_model import LogisticRegression\n",
    "from sklearn.svm import SVC\n",
    "from sklearn.tree import DecisionTreeClassifier\n",
    "from sklearn.ensemble import RandomForestClassifier, GradientBoostingClassifier\n",
    "from sklearn.metrics import confusion_matrix\n",
    "from sklearn.metrics import classification_report\n",
    "from sklearn.model_selection import cross_val_score\n",
    "import warnings\n",
    "warnings.filterwarnings('ignore')"
   ]
  },
  {
   "cell_type": "markdown",
   "id": "3ed06c86",
   "metadata": {},
   "source": [
    "# Importing data"
   ]
  },
  {
   "cell_type": "code",
   "execution_count": 2,
   "id": "175a6fa1",
   "metadata": {
    "scrolled": false
   },
   "outputs": [
    {
     "data": {
      "text/html": [
       "<div>\n",
       "<style scoped>\n",
       "    .dataframe tbody tr th:only-of-type {\n",
       "        vertical-align: middle;\n",
       "    }\n",
       "\n",
       "    .dataframe tbody tr th {\n",
       "        vertical-align: top;\n",
       "    }\n",
       "\n",
       "    .dataframe thead th {\n",
       "        text-align: right;\n",
       "    }\n",
       "</style>\n",
       "<table border=\"1\" class=\"dataframe\">\n",
       "  <thead>\n",
       "    <tr style=\"text-align: right;\">\n",
       "      <th></th>\n",
       "      <th>Age</th>\n",
       "      <th>Workclass</th>\n",
       "      <th>Fnlwgt</th>\n",
       "      <th>Education</th>\n",
       "      <th>Education_num</th>\n",
       "      <th>Marital_status</th>\n",
       "      <th>Occupation</th>\n",
       "      <th>Relationship</th>\n",
       "      <th>Race</th>\n",
       "      <th>Sex</th>\n",
       "      <th>Capital_gain</th>\n",
       "      <th>Capital_loss</th>\n",
       "      <th>Hours_per_week</th>\n",
       "      <th>Native_country</th>\n",
       "      <th>Income</th>\n",
       "    </tr>\n",
       "  </thead>\n",
       "  <tbody>\n",
       "    <tr>\n",
       "      <th>0</th>\n",
       "      <td>50</td>\n",
       "      <td>Self-emp-not-inc</td>\n",
       "      <td>83311</td>\n",
       "      <td>Bachelors</td>\n",
       "      <td>13</td>\n",
       "      <td>Married-civ-spouse</td>\n",
       "      <td>Exec-managerial</td>\n",
       "      <td>Husband</td>\n",
       "      <td>White</td>\n",
       "      <td>Male</td>\n",
       "      <td>0</td>\n",
       "      <td>0</td>\n",
       "      <td>13</td>\n",
       "      <td>United-States</td>\n",
       "      <td>&lt;=50K</td>\n",
       "    </tr>\n",
       "    <tr>\n",
       "      <th>1</th>\n",
       "      <td>38</td>\n",
       "      <td>Private</td>\n",
       "      <td>215646</td>\n",
       "      <td>HS-grad</td>\n",
       "      <td>9</td>\n",
       "      <td>Divorced</td>\n",
       "      <td>Handlers-cleaners</td>\n",
       "      <td>Not-in-family</td>\n",
       "      <td>White</td>\n",
       "      <td>Male</td>\n",
       "      <td>0</td>\n",
       "      <td>0</td>\n",
       "      <td>40</td>\n",
       "      <td>United-States</td>\n",
       "      <td>&lt;=50K</td>\n",
       "    </tr>\n",
       "    <tr>\n",
       "      <th>2</th>\n",
       "      <td>53</td>\n",
       "      <td>Private</td>\n",
       "      <td>234721</td>\n",
       "      <td>11th</td>\n",
       "      <td>7</td>\n",
       "      <td>Married-civ-spouse</td>\n",
       "      <td>Handlers-cleaners</td>\n",
       "      <td>Husband</td>\n",
       "      <td>Black</td>\n",
       "      <td>Male</td>\n",
       "      <td>0</td>\n",
       "      <td>0</td>\n",
       "      <td>40</td>\n",
       "      <td>United-States</td>\n",
       "      <td>&lt;=50K</td>\n",
       "    </tr>\n",
       "    <tr>\n",
       "      <th>3</th>\n",
       "      <td>28</td>\n",
       "      <td>Private</td>\n",
       "      <td>338409</td>\n",
       "      <td>Bachelors</td>\n",
       "      <td>13</td>\n",
       "      <td>Married-civ-spouse</td>\n",
       "      <td>Prof-specialty</td>\n",
       "      <td>Wife</td>\n",
       "      <td>Black</td>\n",
       "      <td>Female</td>\n",
       "      <td>0</td>\n",
       "      <td>0</td>\n",
       "      <td>40</td>\n",
       "      <td>Cuba</td>\n",
       "      <td>&lt;=50K</td>\n",
       "    </tr>\n",
       "    <tr>\n",
       "      <th>4</th>\n",
       "      <td>37</td>\n",
       "      <td>Private</td>\n",
       "      <td>284582</td>\n",
       "      <td>Masters</td>\n",
       "      <td>14</td>\n",
       "      <td>Married-civ-spouse</td>\n",
       "      <td>Exec-managerial</td>\n",
       "      <td>Wife</td>\n",
       "      <td>White</td>\n",
       "      <td>Female</td>\n",
       "      <td>0</td>\n",
       "      <td>0</td>\n",
       "      <td>40</td>\n",
       "      <td>United-States</td>\n",
       "      <td>&lt;=50K</td>\n",
       "    </tr>\n",
       "    <tr>\n",
       "      <th>...</th>\n",
       "      <td>...</td>\n",
       "      <td>...</td>\n",
       "      <td>...</td>\n",
       "      <td>...</td>\n",
       "      <td>...</td>\n",
       "      <td>...</td>\n",
       "      <td>...</td>\n",
       "      <td>...</td>\n",
       "      <td>...</td>\n",
       "      <td>...</td>\n",
       "      <td>...</td>\n",
       "      <td>...</td>\n",
       "      <td>...</td>\n",
       "      <td>...</td>\n",
       "      <td>...</td>\n",
       "    </tr>\n",
       "    <tr>\n",
       "      <th>32555</th>\n",
       "      <td>27</td>\n",
       "      <td>Private</td>\n",
       "      <td>257302</td>\n",
       "      <td>Assoc-acdm</td>\n",
       "      <td>12</td>\n",
       "      <td>Married-civ-spouse</td>\n",
       "      <td>Tech-support</td>\n",
       "      <td>Wife</td>\n",
       "      <td>White</td>\n",
       "      <td>Female</td>\n",
       "      <td>0</td>\n",
       "      <td>0</td>\n",
       "      <td>38</td>\n",
       "      <td>United-States</td>\n",
       "      <td>&lt;=50K</td>\n",
       "    </tr>\n",
       "    <tr>\n",
       "      <th>32556</th>\n",
       "      <td>40</td>\n",
       "      <td>Private</td>\n",
       "      <td>154374</td>\n",
       "      <td>HS-grad</td>\n",
       "      <td>9</td>\n",
       "      <td>Married-civ-spouse</td>\n",
       "      <td>Machine-op-inspct</td>\n",
       "      <td>Husband</td>\n",
       "      <td>White</td>\n",
       "      <td>Male</td>\n",
       "      <td>0</td>\n",
       "      <td>0</td>\n",
       "      <td>40</td>\n",
       "      <td>United-States</td>\n",
       "      <td>&gt;50K</td>\n",
       "    </tr>\n",
       "    <tr>\n",
       "      <th>32557</th>\n",
       "      <td>58</td>\n",
       "      <td>Private</td>\n",
       "      <td>151910</td>\n",
       "      <td>HS-grad</td>\n",
       "      <td>9</td>\n",
       "      <td>Widowed</td>\n",
       "      <td>Adm-clerical</td>\n",
       "      <td>Unmarried</td>\n",
       "      <td>White</td>\n",
       "      <td>Female</td>\n",
       "      <td>0</td>\n",
       "      <td>0</td>\n",
       "      <td>40</td>\n",
       "      <td>United-States</td>\n",
       "      <td>&lt;=50K</td>\n",
       "    </tr>\n",
       "    <tr>\n",
       "      <th>32558</th>\n",
       "      <td>22</td>\n",
       "      <td>Private</td>\n",
       "      <td>201490</td>\n",
       "      <td>HS-grad</td>\n",
       "      <td>9</td>\n",
       "      <td>Never-married</td>\n",
       "      <td>Adm-clerical</td>\n",
       "      <td>Own-child</td>\n",
       "      <td>White</td>\n",
       "      <td>Male</td>\n",
       "      <td>0</td>\n",
       "      <td>0</td>\n",
       "      <td>20</td>\n",
       "      <td>United-States</td>\n",
       "      <td>&lt;=50K</td>\n",
       "    </tr>\n",
       "    <tr>\n",
       "      <th>32559</th>\n",
       "      <td>52</td>\n",
       "      <td>Self-emp-inc</td>\n",
       "      <td>287927</td>\n",
       "      <td>HS-grad</td>\n",
       "      <td>9</td>\n",
       "      <td>Married-civ-spouse</td>\n",
       "      <td>Exec-managerial</td>\n",
       "      <td>Wife</td>\n",
       "      <td>White</td>\n",
       "      <td>Female</td>\n",
       "      <td>15024</td>\n",
       "      <td>0</td>\n",
       "      <td>40</td>\n",
       "      <td>United-States</td>\n",
       "      <td>&gt;50K</td>\n",
       "    </tr>\n",
       "  </tbody>\n",
       "</table>\n",
       "<p>32560 rows × 15 columns</p>\n",
       "</div>"
      ],
      "text/plain": [
       "       Age          Workclass  Fnlwgt    Education  Education_num  \\\n",
       "0       50   Self-emp-not-inc   83311    Bachelors             13   \n",
       "1       38            Private  215646      HS-grad              9   \n",
       "2       53            Private  234721         11th              7   \n",
       "3       28            Private  338409    Bachelors             13   \n",
       "4       37            Private  284582      Masters             14   \n",
       "...    ...                ...     ...          ...            ...   \n",
       "32555   27            Private  257302   Assoc-acdm             12   \n",
       "32556   40            Private  154374      HS-grad              9   \n",
       "32557   58            Private  151910      HS-grad              9   \n",
       "32558   22            Private  201490      HS-grad              9   \n",
       "32559   52       Self-emp-inc  287927      HS-grad              9   \n",
       "\n",
       "            Marital_status          Occupation    Relationship    Race  \\\n",
       "0       Married-civ-spouse     Exec-managerial         Husband   White   \n",
       "1                 Divorced   Handlers-cleaners   Not-in-family   White   \n",
       "2       Married-civ-spouse   Handlers-cleaners         Husband   Black   \n",
       "3       Married-civ-spouse      Prof-specialty            Wife   Black   \n",
       "4       Married-civ-spouse     Exec-managerial            Wife   White   \n",
       "...                    ...                 ...             ...     ...   \n",
       "32555   Married-civ-spouse        Tech-support            Wife   White   \n",
       "32556   Married-civ-spouse   Machine-op-inspct         Husband   White   \n",
       "32557              Widowed        Adm-clerical       Unmarried   White   \n",
       "32558        Never-married        Adm-clerical       Own-child   White   \n",
       "32559   Married-civ-spouse     Exec-managerial            Wife   White   \n",
       "\n",
       "           Sex  Capital_gain  Capital_loss  Hours_per_week  Native_country  \\\n",
       "0         Male             0             0              13   United-States   \n",
       "1         Male             0             0              40   United-States   \n",
       "2         Male             0             0              40   United-States   \n",
       "3       Female             0             0              40            Cuba   \n",
       "4       Female             0             0              40   United-States   \n",
       "...        ...           ...           ...             ...             ...   \n",
       "32555   Female             0             0              38   United-States   \n",
       "32556     Male             0             0              40   United-States   \n",
       "32557   Female             0             0              40   United-States   \n",
       "32558     Male             0             0              20   United-States   \n",
       "32559   Female         15024             0              40   United-States   \n",
       "\n",
       "       Income  \n",
       "0       <=50K  \n",
       "1       <=50K  \n",
       "2       <=50K  \n",
       "3       <=50K  \n",
       "4       <=50K  \n",
       "...       ...  \n",
       "32555   <=50K  \n",
       "32556    >50K  \n",
       "32557   <=50K  \n",
       "32558   <=50K  \n",
       "32559    >50K  \n",
       "\n",
       "[32560 rows x 15 columns]"
      ]
     },
     "execution_count": 2,
     "metadata": {},
     "output_type": "execute_result"
    }
   ],
   "source": [
    "#importing data\n",
    "df = pd.read_csv('census_income.csv')\n",
    "df"
   ]
  },
  {
   "cell_type": "markdown",
   "id": "41f335a8",
   "metadata": {},
   "source": [
    "Above is my dataset and i have some numerical columns and some categorical columns.But i have to predict wheather a person has income of $50k per year.So from this respective statement i can say that my target is Income and this is a Classification Poblem."
   ]
  },
  {
   "cell_type": "markdown",
   "id": "b21ab6f4",
   "metadata": {},
   "source": [
    "Exploratory Data Analysis\n",
    "Exploratory Data Analysis is use to answer all the question like test assumptions, Analysis the data. The main use of it to prepare the data for modeling\n",
    "\n",
    "there are lot of ways to reach the goals, we can get a basic description of the data,visualize it identify patterens in it, identify the callenges of using data,etc\n",
    "\n",
    "Statistical summary\n",
    "Summarizing your dataset through descriptive statistics, to use a variety of measurements to better understand your dataset.\n",
    "\n",
    "shape function\n",
    "shape function gives the dimention of dataframe"
   ]
  },
  {
   "cell_type": "code",
   "execution_count": 3,
   "id": "9583beef",
   "metadata": {},
   "outputs": [
    {
     "data": {
      "text/plain": [
       "(32560, 15)"
      ]
     },
     "execution_count": 3,
     "metadata": {},
     "output_type": "execute_result"
    }
   ],
   "source": [
    "df.shape"
   ]
  },
  {
   "cell_type": "markdown",
   "id": "0736b98d",
   "metadata": {},
   "source": [
    "# dtype function\n",
    "dtypes is use to disply the datatype of data frame"
   ]
  },
  {
   "cell_type": "code",
   "execution_count": 4,
   "id": "8e62aaba",
   "metadata": {},
   "outputs": [
    {
     "data": {
      "text/plain": [
       "Age                int64\n",
       "Workclass         object\n",
       "Fnlwgt             int64\n",
       "Education         object\n",
       "Education_num      int64\n",
       "Marital_status    object\n",
       "Occupation        object\n",
       "Relationship      object\n",
       "Race              object\n",
       "Sex               object\n",
       "Capital_gain       int64\n",
       "Capital_loss       int64\n",
       "Hours_per_week     int64\n",
       "Native_country    object\n",
       "Income            object\n",
       "dtype: object"
      ]
     },
     "execution_count": 4,
     "metadata": {},
     "output_type": "execute_result"
    }
   ],
   "source": [
    "df.dtypes"
   ]
  },
  {
   "cell_type": "markdown",
   "id": "8fe89572",
   "metadata": {},
   "source": [
    "[Age,Fnlwgt,Education_num,Capital_gain,Capital_loss,Capital_loss ] are int64 and remaining columns are object dtype"
   ]
  },
  {
   "cell_type": "markdown",
   "id": "4640a7f3",
   "metadata": {},
   "source": [
    "# info() function\n",
    "info() function gives the RangeIndex, data columns,column names, non-null count, dtype of dataframe,dtype count and memory size"
   ]
  },
  {
   "cell_type": "code",
   "execution_count": 5,
   "id": "ea0fc0fc",
   "metadata": {},
   "outputs": [
    {
     "name": "stdout",
     "output_type": "stream",
     "text": [
      "<class 'pandas.core.frame.DataFrame'>\n",
      "RangeIndex: 32560 entries, 0 to 32559\n",
      "Data columns (total 15 columns):\n",
      " #   Column          Non-Null Count  Dtype \n",
      "---  ------          --------------  ----- \n",
      " 0   Age             32560 non-null  int64 \n",
      " 1   Workclass       32560 non-null  object\n",
      " 2   Fnlwgt          32560 non-null  int64 \n",
      " 3   Education       32560 non-null  object\n",
      " 4   Education_num   32560 non-null  int64 \n",
      " 5   Marital_status  32560 non-null  object\n",
      " 6   Occupation      32560 non-null  object\n",
      " 7   Relationship    32560 non-null  object\n",
      " 8   Race            32560 non-null  object\n",
      " 9   Sex             32560 non-null  object\n",
      " 10  Capital_gain    32560 non-null  int64 \n",
      " 11  Capital_loss    32560 non-null  int64 \n",
      " 12  Hours_per_week  32560 non-null  int64 \n",
      " 13  Native_country  32560 non-null  object\n",
      " 14  Income          32560 non-null  object\n",
      "dtypes: int64(6), object(9)\n",
      "memory usage: 3.7+ MB\n"
     ]
    }
   ],
   "source": [
    "df.info()"
   ]
  },
  {
   "cell_type": "markdown",
   "id": "d83d177a",
   "metadata": {},
   "source": [
    "we have 32560 entries are RangeIndex 0 to 32559 and total 15 columns,32560 non-null values in all the columns,and we have 6 colums of int64 dtype and 9 columns of object dtype"
   ]
  },
  {
   "cell_type": "markdown",
   "id": "d8dc595f",
   "metadata": {},
   "source": [
    "# isnull() function\n",
    "isnull() function is use to know the null values in data frame, it give th values True and False\n",
    "\n",
    "if value is True it indicates null vlaue,else it give false"
   ]
  },
  {
   "cell_type": "code",
   "execution_count": 6,
   "id": "631d221b",
   "metadata": {},
   "outputs": [
    {
     "data": {
      "text/html": [
       "<div>\n",
       "<style scoped>\n",
       "    .dataframe tbody tr th:only-of-type {\n",
       "        vertical-align: middle;\n",
       "    }\n",
       "\n",
       "    .dataframe tbody tr th {\n",
       "        vertical-align: top;\n",
       "    }\n",
       "\n",
       "    .dataframe thead th {\n",
       "        text-align: right;\n",
       "    }\n",
       "</style>\n",
       "<table border=\"1\" class=\"dataframe\">\n",
       "  <thead>\n",
       "    <tr style=\"text-align: right;\">\n",
       "      <th></th>\n",
       "      <th>Age</th>\n",
       "      <th>Workclass</th>\n",
       "      <th>Fnlwgt</th>\n",
       "      <th>Education</th>\n",
       "      <th>Education_num</th>\n",
       "      <th>Marital_status</th>\n",
       "      <th>Occupation</th>\n",
       "      <th>Relationship</th>\n",
       "      <th>Race</th>\n",
       "      <th>Sex</th>\n",
       "      <th>Capital_gain</th>\n",
       "      <th>Capital_loss</th>\n",
       "      <th>Hours_per_week</th>\n",
       "      <th>Native_country</th>\n",
       "      <th>Income</th>\n",
       "    </tr>\n",
       "  </thead>\n",
       "  <tbody>\n",
       "    <tr>\n",
       "      <th>0</th>\n",
       "      <td>False</td>\n",
       "      <td>False</td>\n",
       "      <td>False</td>\n",
       "      <td>False</td>\n",
       "      <td>False</td>\n",
       "      <td>False</td>\n",
       "      <td>False</td>\n",
       "      <td>False</td>\n",
       "      <td>False</td>\n",
       "      <td>False</td>\n",
       "      <td>False</td>\n",
       "      <td>False</td>\n",
       "      <td>False</td>\n",
       "      <td>False</td>\n",
       "      <td>False</td>\n",
       "    </tr>\n",
       "    <tr>\n",
       "      <th>1</th>\n",
       "      <td>False</td>\n",
       "      <td>False</td>\n",
       "      <td>False</td>\n",
       "      <td>False</td>\n",
       "      <td>False</td>\n",
       "      <td>False</td>\n",
       "      <td>False</td>\n",
       "      <td>False</td>\n",
       "      <td>False</td>\n",
       "      <td>False</td>\n",
       "      <td>False</td>\n",
       "      <td>False</td>\n",
       "      <td>False</td>\n",
       "      <td>False</td>\n",
       "      <td>False</td>\n",
       "    </tr>\n",
       "    <tr>\n",
       "      <th>2</th>\n",
       "      <td>False</td>\n",
       "      <td>False</td>\n",
       "      <td>False</td>\n",
       "      <td>False</td>\n",
       "      <td>False</td>\n",
       "      <td>False</td>\n",
       "      <td>False</td>\n",
       "      <td>False</td>\n",
       "      <td>False</td>\n",
       "      <td>False</td>\n",
       "      <td>False</td>\n",
       "      <td>False</td>\n",
       "      <td>False</td>\n",
       "      <td>False</td>\n",
       "      <td>False</td>\n",
       "    </tr>\n",
       "    <tr>\n",
       "      <th>3</th>\n",
       "      <td>False</td>\n",
       "      <td>False</td>\n",
       "      <td>False</td>\n",
       "      <td>False</td>\n",
       "      <td>False</td>\n",
       "      <td>False</td>\n",
       "      <td>False</td>\n",
       "      <td>False</td>\n",
       "      <td>False</td>\n",
       "      <td>False</td>\n",
       "      <td>False</td>\n",
       "      <td>False</td>\n",
       "      <td>False</td>\n",
       "      <td>False</td>\n",
       "      <td>False</td>\n",
       "    </tr>\n",
       "    <tr>\n",
       "      <th>4</th>\n",
       "      <td>False</td>\n",
       "      <td>False</td>\n",
       "      <td>False</td>\n",
       "      <td>False</td>\n",
       "      <td>False</td>\n",
       "      <td>False</td>\n",
       "      <td>False</td>\n",
       "      <td>False</td>\n",
       "      <td>False</td>\n",
       "      <td>False</td>\n",
       "      <td>False</td>\n",
       "      <td>False</td>\n",
       "      <td>False</td>\n",
       "      <td>False</td>\n",
       "      <td>False</td>\n",
       "    </tr>\n",
       "    <tr>\n",
       "      <th>...</th>\n",
       "      <td>...</td>\n",
       "      <td>...</td>\n",
       "      <td>...</td>\n",
       "      <td>...</td>\n",
       "      <td>...</td>\n",
       "      <td>...</td>\n",
       "      <td>...</td>\n",
       "      <td>...</td>\n",
       "      <td>...</td>\n",
       "      <td>...</td>\n",
       "      <td>...</td>\n",
       "      <td>...</td>\n",
       "      <td>...</td>\n",
       "      <td>...</td>\n",
       "      <td>...</td>\n",
       "    </tr>\n",
       "    <tr>\n",
       "      <th>32555</th>\n",
       "      <td>False</td>\n",
       "      <td>False</td>\n",
       "      <td>False</td>\n",
       "      <td>False</td>\n",
       "      <td>False</td>\n",
       "      <td>False</td>\n",
       "      <td>False</td>\n",
       "      <td>False</td>\n",
       "      <td>False</td>\n",
       "      <td>False</td>\n",
       "      <td>False</td>\n",
       "      <td>False</td>\n",
       "      <td>False</td>\n",
       "      <td>False</td>\n",
       "      <td>False</td>\n",
       "    </tr>\n",
       "    <tr>\n",
       "      <th>32556</th>\n",
       "      <td>False</td>\n",
       "      <td>False</td>\n",
       "      <td>False</td>\n",
       "      <td>False</td>\n",
       "      <td>False</td>\n",
       "      <td>False</td>\n",
       "      <td>False</td>\n",
       "      <td>False</td>\n",
       "      <td>False</td>\n",
       "      <td>False</td>\n",
       "      <td>False</td>\n",
       "      <td>False</td>\n",
       "      <td>False</td>\n",
       "      <td>False</td>\n",
       "      <td>False</td>\n",
       "    </tr>\n",
       "    <tr>\n",
       "      <th>32557</th>\n",
       "      <td>False</td>\n",
       "      <td>False</td>\n",
       "      <td>False</td>\n",
       "      <td>False</td>\n",
       "      <td>False</td>\n",
       "      <td>False</td>\n",
       "      <td>False</td>\n",
       "      <td>False</td>\n",
       "      <td>False</td>\n",
       "      <td>False</td>\n",
       "      <td>False</td>\n",
       "      <td>False</td>\n",
       "      <td>False</td>\n",
       "      <td>False</td>\n",
       "      <td>False</td>\n",
       "    </tr>\n",
       "    <tr>\n",
       "      <th>32558</th>\n",
       "      <td>False</td>\n",
       "      <td>False</td>\n",
       "      <td>False</td>\n",
       "      <td>False</td>\n",
       "      <td>False</td>\n",
       "      <td>False</td>\n",
       "      <td>False</td>\n",
       "      <td>False</td>\n",
       "      <td>False</td>\n",
       "      <td>False</td>\n",
       "      <td>False</td>\n",
       "      <td>False</td>\n",
       "      <td>False</td>\n",
       "      <td>False</td>\n",
       "      <td>False</td>\n",
       "    </tr>\n",
       "    <tr>\n",
       "      <th>32559</th>\n",
       "      <td>False</td>\n",
       "      <td>False</td>\n",
       "      <td>False</td>\n",
       "      <td>False</td>\n",
       "      <td>False</td>\n",
       "      <td>False</td>\n",
       "      <td>False</td>\n",
       "      <td>False</td>\n",
       "      <td>False</td>\n",
       "      <td>False</td>\n",
       "      <td>False</td>\n",
       "      <td>False</td>\n",
       "      <td>False</td>\n",
       "      <td>False</td>\n",
       "      <td>False</td>\n",
       "    </tr>\n",
       "  </tbody>\n",
       "</table>\n",
       "<p>32560 rows × 15 columns</p>\n",
       "</div>"
      ],
      "text/plain": [
       "         Age  Workclass  Fnlwgt  Education  Education_num  Marital_status  \\\n",
       "0      False      False   False      False          False           False   \n",
       "1      False      False   False      False          False           False   \n",
       "2      False      False   False      False          False           False   \n",
       "3      False      False   False      False          False           False   \n",
       "4      False      False   False      False          False           False   \n",
       "...      ...        ...     ...        ...            ...             ...   \n",
       "32555  False      False   False      False          False           False   \n",
       "32556  False      False   False      False          False           False   \n",
       "32557  False      False   False      False          False           False   \n",
       "32558  False      False   False      False          False           False   \n",
       "32559  False      False   False      False          False           False   \n",
       "\n",
       "       Occupation  Relationship   Race    Sex  Capital_gain  Capital_loss  \\\n",
       "0           False         False  False  False         False         False   \n",
       "1           False         False  False  False         False         False   \n",
       "2           False         False  False  False         False         False   \n",
       "3           False         False  False  False         False         False   \n",
       "4           False         False  False  False         False         False   \n",
       "...           ...           ...    ...    ...           ...           ...   \n",
       "32555       False         False  False  False         False         False   \n",
       "32556       False         False  False  False         False         False   \n",
       "32557       False         False  False  False         False         False   \n",
       "32558       False         False  False  False         False         False   \n",
       "32559       False         False  False  False         False         False   \n",
       "\n",
       "       Hours_per_week  Native_country  Income  \n",
       "0               False           False   False  \n",
       "1               False           False   False  \n",
       "2               False           False   False  \n",
       "3               False           False   False  \n",
       "4               False           False   False  \n",
       "...               ...             ...     ...  \n",
       "32555           False           False   False  \n",
       "32556           False           False   False  \n",
       "32557           False           False   False  \n",
       "32558           False           False   False  \n",
       "32559           False           False   False  \n",
       "\n",
       "[32560 rows x 15 columns]"
      ]
     },
     "execution_count": 6,
     "metadata": {},
     "output_type": "execute_result"
    }
   ],
   "source": [
    "df.isnull()"
   ]
  },
  {
   "cell_type": "markdown",
   "id": "c249c78d",
   "metadata": {},
   "source": [
    "if we have null value it gives True value otherwise it gives False"
   ]
  },
  {
   "cell_type": "markdown",
   "id": "0508ed0b",
   "metadata": {},
   "source": [
    "# isnull().sum() function\n",
    "isnull().sum() it give the count of null values present in column"
   ]
  },
  {
   "cell_type": "code",
   "execution_count": 7,
   "id": "c25872f9",
   "metadata": {},
   "outputs": [
    {
     "data": {
      "text/plain": [
       "Age               0\n",
       "Workclass         0\n",
       "Fnlwgt            0\n",
       "Education         0\n",
       "Education_num     0\n",
       "Marital_status    0\n",
       "Occupation        0\n",
       "Relationship      0\n",
       "Race              0\n",
       "Sex               0\n",
       "Capital_gain      0\n",
       "Capital_loss      0\n",
       "Hours_per_week    0\n",
       "Native_country    0\n",
       "Income            0\n",
       "dtype: int64"
      ]
     },
     "execution_count": 7,
     "metadata": {},
     "output_type": "execute_result"
    }
   ],
   "source": [
    "df.isnull().sum()"
   ]
  },
  {
   "cell_type": "markdown",
   "id": "3c8f78a6",
   "metadata": {},
   "source": [
    "there is no null values in the dataframe"
   ]
  },
  {
   "cell_type": "markdown",
   "id": "23dd43af",
   "metadata": {},
   "source": [
    "# Describe the data\n",
    "describe function gives the imfomation of count of variables that used to calculate if their is null values that shows less numberrow rows than given in dimention, and function also it gives the infomation of mean, standard deviation,minimum value,25th percentile,50th percentile(which is median),75th percentile and in last it gives maximum value of each column"
   ]
  },
  {
   "cell_type": "code",
   "execution_count": 8,
   "id": "5a1d850f",
   "metadata": {},
   "outputs": [
    {
     "data": {
      "text/html": [
       "<div>\n",
       "<style scoped>\n",
       "    .dataframe tbody tr th:only-of-type {\n",
       "        vertical-align: middle;\n",
       "    }\n",
       "\n",
       "    .dataframe tbody tr th {\n",
       "        vertical-align: top;\n",
       "    }\n",
       "\n",
       "    .dataframe thead th {\n",
       "        text-align: right;\n",
       "    }\n",
       "</style>\n",
       "<table border=\"1\" class=\"dataframe\">\n",
       "  <thead>\n",
       "    <tr style=\"text-align: right;\">\n",
       "      <th></th>\n",
       "      <th>Age</th>\n",
       "      <th>Fnlwgt</th>\n",
       "      <th>Education_num</th>\n",
       "      <th>Capital_gain</th>\n",
       "      <th>Capital_loss</th>\n",
       "      <th>Hours_per_week</th>\n",
       "    </tr>\n",
       "  </thead>\n",
       "  <tbody>\n",
       "    <tr>\n",
       "      <th>count</th>\n",
       "      <td>32560.000000</td>\n",
       "      <td>3.256000e+04</td>\n",
       "      <td>32560.000000</td>\n",
       "      <td>32560.000000</td>\n",
       "      <td>32560.000000</td>\n",
       "      <td>32560.000000</td>\n",
       "    </tr>\n",
       "    <tr>\n",
       "      <th>mean</th>\n",
       "      <td>38.581634</td>\n",
       "      <td>1.897818e+05</td>\n",
       "      <td>10.080590</td>\n",
       "      <td>1077.615172</td>\n",
       "      <td>87.306511</td>\n",
       "      <td>40.437469</td>\n",
       "    </tr>\n",
       "    <tr>\n",
       "      <th>std</th>\n",
       "      <td>13.640642</td>\n",
       "      <td>1.055498e+05</td>\n",
       "      <td>2.572709</td>\n",
       "      <td>7385.402999</td>\n",
       "      <td>402.966116</td>\n",
       "      <td>12.347618</td>\n",
       "    </tr>\n",
       "    <tr>\n",
       "      <th>min</th>\n",
       "      <td>17.000000</td>\n",
       "      <td>1.228500e+04</td>\n",
       "      <td>1.000000</td>\n",
       "      <td>0.000000</td>\n",
       "      <td>0.000000</td>\n",
       "      <td>1.000000</td>\n",
       "    </tr>\n",
       "    <tr>\n",
       "      <th>25%</th>\n",
       "      <td>28.000000</td>\n",
       "      <td>1.178315e+05</td>\n",
       "      <td>9.000000</td>\n",
       "      <td>0.000000</td>\n",
       "      <td>0.000000</td>\n",
       "      <td>40.000000</td>\n",
       "    </tr>\n",
       "    <tr>\n",
       "      <th>50%</th>\n",
       "      <td>37.000000</td>\n",
       "      <td>1.783630e+05</td>\n",
       "      <td>10.000000</td>\n",
       "      <td>0.000000</td>\n",
       "      <td>0.000000</td>\n",
       "      <td>40.000000</td>\n",
       "    </tr>\n",
       "    <tr>\n",
       "      <th>75%</th>\n",
       "      <td>48.000000</td>\n",
       "      <td>2.370545e+05</td>\n",
       "      <td>12.000000</td>\n",
       "      <td>0.000000</td>\n",
       "      <td>0.000000</td>\n",
       "      <td>45.000000</td>\n",
       "    </tr>\n",
       "    <tr>\n",
       "      <th>max</th>\n",
       "      <td>90.000000</td>\n",
       "      <td>1.484705e+06</td>\n",
       "      <td>16.000000</td>\n",
       "      <td>99999.000000</td>\n",
       "      <td>4356.000000</td>\n",
       "      <td>99.000000</td>\n",
       "    </tr>\n",
       "  </tbody>\n",
       "</table>\n",
       "</div>"
      ],
      "text/plain": [
       "                Age        Fnlwgt  Education_num  Capital_gain  Capital_loss  \\\n",
       "count  32560.000000  3.256000e+04   32560.000000  32560.000000  32560.000000   \n",
       "mean      38.581634  1.897818e+05      10.080590   1077.615172     87.306511   \n",
       "std       13.640642  1.055498e+05       2.572709   7385.402999    402.966116   \n",
       "min       17.000000  1.228500e+04       1.000000      0.000000      0.000000   \n",
       "25%       28.000000  1.178315e+05       9.000000      0.000000      0.000000   \n",
       "50%       37.000000  1.783630e+05      10.000000      0.000000      0.000000   \n",
       "75%       48.000000  2.370545e+05      12.000000      0.000000      0.000000   \n",
       "max       90.000000  1.484705e+06      16.000000  99999.000000   4356.000000   \n",
       "\n",
       "       Hours_per_week  \n",
       "count    32560.000000  \n",
       "mean        40.437469  \n",
       "std         12.347618  \n",
       "min          1.000000  \n",
       "25%         40.000000  \n",
       "50%         40.000000  \n",
       "75%         45.000000  \n",
       "max         99.000000  "
      ]
     },
     "execution_count": 8,
     "metadata": {},
     "output_type": "execute_result"
    }
   ],
   "source": [
    "df.describe()"
   ]
  },
  {
   "cell_type": "markdown",
   "id": "bedd7afa",
   "metadata": {},
   "source": [
    "Mean age is 38 and median is 37, the age range is 17 - 90 while IQR is 28 - 48.\n",
    "\n",
    "Education number is just encoded data for education, most of the people have max education level of some college.\n",
    "\n",
    "For both capital gain and capital loss we can see that most of the data is around 0.\n",
    "\n",
    "For hours per week most of the data is centered towards 40 hours per week."
   ]
  },
  {
   "cell_type": "markdown",
   "id": "a6ffaeac",
   "metadata": {},
   "source": [
    "# Data Visualization\n",
    "Data visualization is a technique that uses an array of static and interactive visuals within a specific context to help people understand and make sense of large amounts of data. The data is often displayed in a story format that visualizes patterns, trends and correlations that may otherwise go unnoticed.\n",
    "\n",
    "we are using two libraries\n",
    "\n",
    "1.matplotlib.pyplot\n",
    "\n",
    "2.seaborn"
   ]
  },
  {
   "cell_type": "code",
   "execution_count": 9,
   "id": "2521732c",
   "metadata": {},
   "outputs": [
    {
     "data": {
      "text/plain": [
       "<AxesSubplot:>"
      ]
     },
     "execution_count": 9,
     "metadata": {},
     "output_type": "execute_result"
    },
    {
     "data": {
      "image/png": "[encoded data removed]",
      "text/plain": [
       "<Figure size 576x432 with 2 Axes>"
      ]
     },
     "metadata": {
      "needs_background": "light"
     },
     "output_type": "display_data"
    }
   ],
   "source": [
    "plt.figure(figsize=(8,6))\n",
    "sns.heatmap(df.isnull(),cmap='viridis')"
   ]
  },
  {
   "cell_type": "markdown",
   "id": "eb3b3aa4",
   "metadata": {},
   "source": [
    "there is no null values in the dataframe and if we have null values we can see different shade in plot"
   ]
  },
  {
   "cell_type": "code",
   "execution_count": 10,
   "id": "37a0623a",
   "metadata": {},
   "outputs": [],
   "source": [
    "le=LabelEncoder()\n",
    "df['Income'] = le.fit_transform(df['Income'])"
   ]
  },
  {
   "cell_type": "markdown",
   "id": "65d782f6",
   "metadata": {},
   "source": [
    "here we labeled that <=50K as 0 and >50K as 1"
   ]
  },
  {
   "cell_type": "markdown",
   "id": "72caf992",
   "metadata": {},
   "source": [
    "# Correlation\n",
    "Correlation means association - more precisely it is a measure of the extent to which two variables are related. There are three possible results of a correlational study: a positive correlation, a negative correlation, and no correlation.\n",
    "\n",
    "A positive correlation is a relationship between two variables in which both variables either increase or decrease at the same time. An example would be height and weight. Taller people tend to be heavier.\n",
    "\n",
    "A negative correlation is a relationship between two variables in which an increase in one variable is associated with a decrease in the other. An example would be height above sea level and temperature. As you climb the mountain (increase in height) it gets colder (decrease in temperature).\n",
    "\n",
    "A zero correlation exists when there is no relationship between two variables. For example, there is no relationship between the amount of tea drunk and level of intelligence"
   ]
  },
  {
   "cell_type": "code",
   "execution_count": 11,
   "id": "da8f5964",
   "metadata": {},
   "outputs": [
    {
     "data": {
      "text/html": [
       "<div>\n",
       "<style scoped>\n",
       "    .dataframe tbody tr th:only-of-type {\n",
       "        vertical-align: middle;\n",
       "    }\n",
       "\n",
       "    .dataframe tbody tr th {\n",
       "        vertical-align: top;\n",
       "    }\n",
       "\n",
       "    .dataframe thead th {\n",
       "        text-align: right;\n",
       "    }\n",
       "</style>\n",
       "<table border=\"1\" class=\"dataframe\">\n",
       "  <thead>\n",
       "    <tr style=\"text-align: right;\">\n",
       "      <th></th>\n",
       "      <th>Age</th>\n",
       "      <th>Fnlwgt</th>\n",
       "      <th>Education_num</th>\n",
       "      <th>Capital_gain</th>\n",
       "      <th>Capital_loss</th>\n",
       "      <th>Hours_per_week</th>\n",
       "      <th>Income</th>\n",
       "    </tr>\n",
       "  </thead>\n",
       "  <tbody>\n",
       "    <tr>\n",
       "      <th>Age</th>\n",
       "      <td>1.000000</td>\n",
       "      <td>-0.076646</td>\n",
       "      <td>0.036527</td>\n",
       "      <td>0.077674</td>\n",
       "      <td>0.057775</td>\n",
       "      <td>0.068756</td>\n",
       "      <td>0.234039</td>\n",
       "    </tr>\n",
       "    <tr>\n",
       "      <th>Fnlwgt</th>\n",
       "      <td>-0.076646</td>\n",
       "      <td>1.000000</td>\n",
       "      <td>-0.043159</td>\n",
       "      <td>0.000437</td>\n",
       "      <td>-0.010259</td>\n",
       "      <td>-0.018770</td>\n",
       "      <td>-0.009481</td>\n",
       "    </tr>\n",
       "    <tr>\n",
       "      <th>Education_num</th>\n",
       "      <td>0.036527</td>\n",
       "      <td>-0.043159</td>\n",
       "      <td>1.000000</td>\n",
       "      <td>0.122627</td>\n",
       "      <td>0.079932</td>\n",
       "      <td>0.148127</td>\n",
       "      <td>0.335182</td>\n",
       "    </tr>\n",
       "    <tr>\n",
       "      <th>Capital_gain</th>\n",
       "      <td>0.077674</td>\n",
       "      <td>0.000437</td>\n",
       "      <td>0.122627</td>\n",
       "      <td>1.000000</td>\n",
       "      <td>-0.031614</td>\n",
       "      <td>0.078409</td>\n",
       "      <td>0.223333</td>\n",
       "    </tr>\n",
       "    <tr>\n",
       "      <th>Capital_loss</th>\n",
       "      <td>0.057775</td>\n",
       "      <td>-0.010259</td>\n",
       "      <td>0.079932</td>\n",
       "      <td>-0.031614</td>\n",
       "      <td>1.000000</td>\n",
       "      <td>0.054256</td>\n",
       "      <td>0.150523</td>\n",
       "    </tr>\n",
       "    <tr>\n",
       "      <th>Hours_per_week</th>\n",
       "      <td>0.068756</td>\n",
       "      <td>-0.018770</td>\n",
       "      <td>0.148127</td>\n",
       "      <td>0.078409</td>\n",
       "      <td>0.054256</td>\n",
       "      <td>1.000000</td>\n",
       "      <td>0.229690</td>\n",
       "    </tr>\n",
       "    <tr>\n",
       "      <th>Income</th>\n",
       "      <td>0.234039</td>\n",
       "      <td>-0.009481</td>\n",
       "      <td>0.335182</td>\n",
       "      <td>0.223333</td>\n",
       "      <td>0.150523</td>\n",
       "      <td>0.229690</td>\n",
       "      <td>1.000000</td>\n",
       "    </tr>\n",
       "  </tbody>\n",
       "</table>\n",
       "</div>"
      ],
      "text/plain": [
       "                     Age    Fnlwgt  Education_num  Capital_gain  Capital_loss  \\\n",
       "Age             1.000000 -0.076646       0.036527      0.077674      0.057775   \n",
       "Fnlwgt         -0.076646  1.000000      -0.043159      0.000437     -0.010259   \n",
       "Education_num   0.036527 -0.043159       1.000000      0.122627      0.079932   \n",
       "Capital_gain    0.077674  0.000437       0.122627      1.000000     -0.031614   \n",
       "Capital_loss    0.057775 -0.010259       0.079932     -0.031614      1.000000   \n",
       "Hours_per_week  0.068756 -0.018770       0.148127      0.078409      0.054256   \n",
       "Income          0.234039 -0.009481       0.335182      0.223333      0.150523   \n",
       "\n",
       "                Hours_per_week    Income  \n",
       "Age                   0.068756  0.234039  \n",
       "Fnlwgt               -0.018770 -0.009481  \n",
       "Education_num         0.148127  0.335182  \n",
       "Capital_gain          0.078409  0.223333  \n",
       "Capital_loss          0.054256  0.150523  \n",
       "Hours_per_week        1.000000  0.229690  \n",
       "Income                0.229690  1.000000  "
      ]
     },
     "execution_count": 11,
     "metadata": {},
     "output_type": "execute_result"
    }
   ],
   "source": [
    "dfcor=df.corr()\n",
    "dfcor"
   ]
  },
  {
   "cell_type": "code",
   "execution_count": 12,
   "id": "d4ed23e5",
   "metadata": {},
   "outputs": [
    {
     "data": {
      "text/plain": [
       "<AxesSubplot:>"
      ]
     },
     "execution_count": 12,
     "metadata": {},
     "output_type": "execute_result"
    },
    {
     "data": {
      "image/png": "[encoded data removed]",
      "text/plain": [
       "<Figure size 576x432 with 2 Axes>"
      ]
     },
     "metadata": {
      "needs_background": "light"
     },
     "output_type": "display_data"
    }
   ],
   "source": [
    "plt.figure(figsize=(8,6))\n",
    "sns.heatmap(dfcor,cmap='inferno',annot=True)"
   ]
  },
  {
   "cell_type": "markdown",
   "id": "a0aa93b2",
   "metadata": {},
   "source": [
    "Almost all the columns are correlated with target variable but Fnlwgt has correlation almost zero"
   ]
  },
  {
   "cell_type": "code",
   "execution_count": 13,
   "id": "760f1604",
   "metadata": {},
   "outputs": [],
   "source": [
    "df=df.drop('Fnlwgt',axis=1)"
   ]
  },
  {
   "cell_type": "markdown",
   "id": "783ff544",
   "metadata": {},
   "source": [
    "# Age\n",
    "Here, I'll bucket the age into separate bins.\n",
    "\n",
    "1.0-25: Young\n",
    "\n",
    "2.25-50: Adult\n",
    "\n",
    "3.50-100: Old"
   ]
  },
  {
   "cell_type": "code",
   "execution_count": 14,
   "id": "cf3fd464",
   "metadata": {},
   "outputs": [
    {
     "data": {
      "text/plain": [
       "array([50, 38, 53, 28, 37, 49, 52, 31, 42, 30, 23, 32, 40, 34, 25, 43, 54,\n",
       "       35, 59, 56, 19, 39, 20, 45, 22, 48, 21, 24, 57, 44, 41, 29, 18, 47,\n",
       "       46, 36, 79, 27, 67, 33, 76, 17, 55, 61, 70, 64, 71, 68, 66, 51, 58,\n",
       "       26, 60, 90, 75, 65, 77, 62, 63, 80, 72, 74, 69, 73, 81, 78, 88, 82,\n",
       "       83, 84, 85, 86, 87], dtype=int64)"
      ]
     },
     "execution_count": 14,
     "metadata": {},
     "output_type": "execute_result"
    }
   ],
   "source": [
    "df['Age'].unique()"
   ]
  },
  {
   "cell_type": "code",
   "execution_count": 15,
   "id": "a7dd5ee6",
   "metadata": {},
   "outputs": [],
   "source": [
    "df['Age'] = pd.cut(df['Age'], bins = [0, 25, 50, 100], labels = ['Young', 'Adult', 'Old'])"
   ]
  },
  {
   "cell_type": "code",
   "execution_count": 16,
   "id": "574d72ad",
   "metadata": {},
   "outputs": [
    {
     "data": {
      "text/plain": [
       "<AxesSubplot:xlabel='Age', ylabel='count'>"
      ]
     },
     "execution_count": 16,
     "metadata": {},
     "output_type": "execute_result"
    },
    {
     "data": {
      "image/png": "[encoded data removed]",
      "text/plain": [
       "<Figure size 432x288 with 1 Axes>"
      ]
     },
     "metadata": {
      "needs_background": "light"
     },
     "output_type": "display_data"
    }
   ],
   "source": [
    "sns.countplot(x = 'Age', hue = 'Income', data = df,palette='BrBG_r')"
   ]
  },
  {
   "cell_type": "markdown",
   "id": "8d4da3dc",
   "metadata": {},
   "source": [
    "It appears that there are relatively less Young people who have an income more than $50K."
   ]
  },
  {
   "cell_type": "markdown",
   "id": "e6a4ff0d",
   "metadata": {},
   "source": [
    "# Capital_gain and Capital_loss\n",
    "Rather than having both Capital Gain and Capital Loss, I will use their difference as that is more relevant and gives the change."
   ]
  },
  {
   "cell_type": "code",
   "execution_count": 17,
   "id": "45a7867d",
   "metadata": {},
   "outputs": [],
   "source": [
    "df['Capital_diff'] = df['Capital_gain'] - df['Capital_loss']\n",
    "df.drop(['Capital_gain'], axis = 1, inplace = True)\n",
    "df.drop(['Capital_loss'], axis = 1, inplace = True)"
   ]
  },
  {
   "cell_type": "code",
   "execution_count": 18,
   "id": "577b6625",
   "metadata": {},
   "outputs": [],
   "source": [
    "df['Capital_diff'] = pd.cut(df['Capital_diff'], bins = [-5000, 5000, 100000], labels = ['Minor', 'Major'])"
   ]
  },
  {
   "cell_type": "code",
   "execution_count": 19,
   "id": "e68c0d99",
   "metadata": {},
   "outputs": [
    {
     "data": {
      "text/plain": [
       "<AxesSubplot:xlabel='Capital_diff', ylabel='count'>"
      ]
     },
     "execution_count": 19,
     "metadata": {},
     "output_type": "execute_result"
    },
    {
     "data": {
      "image/png": "[encoded data removed]",
      "text/plain": [
       "<Figure size 432x288 with 1 Axes>"
      ]
     },
     "metadata": {
      "needs_background": "light"
     },
     "output_type": "display_data"
    }
   ],
   "source": [
    "sns.countplot(x = 'Capital_diff', hue = 'Income', data = df)"
   ]
  },
  {
   "cell_type": "markdown",
   "id": "413e9d00",
   "metadata": {},
   "source": [
    "On taking a look at result, we can see that the for Minor there are more people with incom less than 50 K and for Major there are more people with Income greater than 50K this is complete agreement with the fact that people who have large Capital_gain, compared to Capital_loss have Income more than $50k"
   ]
  },
  {
   "cell_type": "markdown",
   "id": "38223cd4",
   "metadata": {},
   "source": [
    "# Hours_per_week\n",
    "Taking a look at the histogram for Hours per Week, I can see that the dataset is aligned around the center. I can still create buckets from this data. As usually, the work hours are close to 30-40 hours, I create the buckets as 0-30, 30-40, and 40-100.m"
   ]
  },
  {
   "cell_type": "code",
   "execution_count": 20,
   "id": "8b8632b9",
   "metadata": {},
   "outputs": [],
   "source": [
    "df['Hours_per_week'] = pd.cut(df['Hours_per_week'], \n",
    "                                   bins = [0, 30, 40, 100], \n",
    "                                   labels = ['Lesser Hours', 'Normal Hours', 'Extra Hours'])"
   ]
  },
  {
   "cell_type": "code",
   "execution_count": 21,
   "id": "3b01233e",
   "metadata": {},
   "outputs": [
    {
     "data": {
      "text/plain": [
       "<AxesSubplot:xlabel='Hours_per_week', ylabel='count'>"
      ]
     },
     "execution_count": 21,
     "metadata": {},
     "output_type": "execute_result"
    },
    {
     "data": {
      "image/png": "[encoded data removed]",
      "text/plain": [
       "<Figure size 432x288 with 1 Axes>"
      ]
     },
     "metadata": {
      "needs_background": "light"
     },
     "output_type": "display_data"
    }
   ],
   "source": [
    "sns.countplot(x = 'Hours_per_week', hue = 'Income', data = df,palette='CMRmap_r')"
   ]
  },
  {
   "cell_type": "markdown",
   "id": "b62e00c7",
   "metadata": {},
   "source": [
    "Taking a look at the plot above, we can see a trend. As the number of hours increase, the number of people earning more than $50K increases in comparison to the people earning less"
   ]
  },
  {
   "cell_type": "markdown",
   "id": "3b4b0418",
   "metadata": {},
   "source": [
    "# Workclass"
   ]
  },
  {
   "cell_type": "code",
   "execution_count": 22,
   "id": "7069a9f3",
   "metadata": {},
   "outputs": [
    {
     "data": {
      "text/plain": [
       "<AxesSubplot:xlabel='Workclass', ylabel='count'>"
      ]
     },
     "execution_count": 22,
     "metadata": {},
     "output_type": "execute_result"
    },
    {
     "data": {
      "image/png": "[encoded data removed]",
      "text/plain": [
       "<Figure size 864x432 with 1 Axes>"
      ]
     },
     "metadata": {
      "needs_background": "light"
     },
     "output_type": "display_data"
    }
   ],
   "source": [
    "plt.figure(figsize=(12,6))\n",
    "sns.countplot(x = 'Workclass', hue = 'Income', data = df,palette='Oranges_r')"
   ]
  },
  {
   "cell_type": "markdown",
   "id": "ac113737",
   "metadata": {},
   "source": [
    "Taking a look at the plot above, I can see that there are Work Class values defined as ? which appears to be error data. As it is very less, I'll simply remove these records. Also, the two values Without-pay and Never-worked are negligible and hence it is safe to drop them too.\n",
    "\n",
    "here we can see most of the records are privte in workclass and we have most of records are having income <=50"
   ]
  },
  {
   "cell_type": "markdown",
   "id": "1a88e9a8",
   "metadata": {},
   "source": [
    "# Education and Education_num"
   ]
  },
  {
   "cell_type": "markdown",
   "id": "4db2b914",
   "metadata": {},
   "source": [
    "It's a good time to check if there is any relation between Education and Education_num."
   ]
  },
  {
   "cell_type": "code",
   "execution_count": 23,
   "id": "c97abad5",
   "metadata": {},
   "outputs": [
    {
     "data": {
      "text/plain": [
       "<AxesSubplot:xlabel='Education', ylabel='count'>"
      ]
     },
     "execution_count": 23,
     "metadata": {},
     "output_type": "execute_result"
    },
    {
     "data": {
      "image/png": "[encoded data removed]",
      "text/plain": [
       "<Figure size 864x432 with 1 Axes>"
      ]
     },
     "metadata": {
      "needs_background": "light"
     },
     "output_type": "display_data"
    }
   ],
   "source": [
    "plt.figure(figsize=(12,6))\n",
    "sns.countplot(x = 'Education', hue = 'Income', data = df,palette='Wistia')"
   ]
  },
  {
   "cell_type": "code",
   "execution_count": 24,
   "id": "958f1104",
   "metadata": {},
   "outputs": [
    {
     "name": "stdout",
     "output_type": "stream",
     "text": [
      "For  Bachelors, the Education Number is [13]\n",
      "For  HS-grad, the Education Number is [9]\n",
      "For  11th, the Education Number is [7]\n",
      "For  Masters, the Education Number is [14]\n",
      "For  9th, the Education Number is [5]\n",
      "For  Some-college, the Education Number is [10]\n",
      "For  Assoc-acdm, the Education Number is [12]\n",
      "For  Assoc-voc, the Education Number is [11]\n",
      "For  7th-8th, the Education Number is [4]\n",
      "For  Doctorate, the Education Number is [16]\n",
      "For  Prof-school, the Education Number is [15]\n",
      "For  5th-6th, the Education Number is [3]\n",
      "For  10th, the Education Number is [6]\n",
      "For  1st-4th, the Education Number is [2]\n",
      "For  Preschool, the Education Number is [1]\n",
      "For  12th, the Education Number is [8]\n"
     ]
    }
   ],
   "source": [
    "edu_classes = df['Education'].unique()\n",
    "for edu_class in edu_classes:\n",
    "    print(\"For {}, the Education Number is {}\"\n",
    "          .format(edu_class, df[df['Education'] == edu_class]['Education_num'].unique()))"
   ]
  },
  {
   "cell_type": "markdown",
   "id": "2228e2ec",
   "metadata": {},
   "source": [
    "By the above code we can clearly says that both columns are same so we can drop any one there is no change in dataframe"
   ]
  },
  {
   "cell_type": "code",
   "execution_count": 25,
   "id": "1897b915",
   "metadata": {},
   "outputs": [
    {
     "data": {
      "text/plain": [
       " HS-grad         10501\n",
       " Some-college     7291\n",
       " Bachelors        5354\n",
       " School           4253\n",
       " Masters          1723\n",
       " Assoc-voc        1382\n",
       " Assoc-acdm       1067\n",
       " Prof-school       576\n",
       " Doctorate         413\n",
       "Name: Education, dtype: int64"
      ]
     },
     "execution_count": 25,
     "metadata": {},
     "output_type": "execute_result"
    }
   ],
   "source": [
    "df.drop(['Education_num'], axis = 1, inplace = True)\n",
    "df['Education'].replace([' 11th', ' 9th', ' 7th-8th', ' 5th-6th', ' 10th', ' 1st-4th', ' Preschool', ' 12th'],\n",
    "                             ' School', inplace = True)\n",
    "df['Education'].value_counts()"
   ]
  },
  {
   "cell_type": "markdown",
   "id": "77aa0d4b",
   "metadata": {},
   "source": [
    "# Marital_status and Relationship"
   ]
  },
  {
   "cell_type": "code",
   "execution_count": 26,
   "id": "dd160929",
   "metadata": {},
   "outputs": [
    {
     "data": {
      "text/plain": [
       " Married-civ-spouse       14976\n",
       " Never-married            10682\n",
       " Divorced                  4443\n",
       " Separated                 1025\n",
       " Widowed                    993\n",
       " Married-spouse-absent      418\n",
       " Married-AF-spouse           23\n",
       "Name: Marital_status, dtype: int64"
      ]
     },
     "execution_count": 26,
     "metadata": {},
     "output_type": "execute_result"
    }
   ],
   "source": [
    "df['Marital_status'].value_counts()"
   ]
  },
  {
   "cell_type": "code",
   "execution_count": 27,
   "id": "4df46735",
   "metadata": {},
   "outputs": [
    {
     "data": {
      "text/plain": [
       " Husband           13193\n",
       " Not-in-family      8304\n",
       " Own-child          5068\n",
       " Unmarried          3446\n",
       " Wife               1568\n",
       " Other-relative      981\n",
       "Name: Relationship, dtype: int64"
      ]
     },
     "execution_count": 27,
     "metadata": {},
     "output_type": "execute_result"
    }
   ],
   "source": [
    "df['Relationship'].value_counts()"
   ]
  },
  {
   "cell_type": "markdown",
   "id": "01a01770",
   "metadata": {},
   "source": [
    "Both of them have no missing values. There is some overlap between the two such as if the person is Husband or Wife, then their marital status would be Married. However, as there is no complete overlap."
   ]
  },
  {
   "cell_type": "markdown",
   "id": "e88d7c0f",
   "metadata": {},
   "source": [
    "# Occupation"
   ]
  },
  {
   "cell_type": "code",
   "execution_count": 28,
   "id": "9f3f483c",
   "metadata": {},
   "outputs": [
    {
     "data": {
      "text/plain": [
       "<AxesSubplot:xlabel='Occupation', ylabel='count'>"
      ]
     },
     "execution_count": 28,
     "metadata": {},
     "output_type": "execute_result"
    },
    {
     "data": {
      "image/png": "[encoded data removed]",
      "text/plain": [
       "<Figure size 1584x432 with 1 Axes>"
      ]
     },
     "metadata": {
      "needs_background": "light"
     },
     "output_type": "display_data"
    }
   ],
   "source": [
    "plt.figure(figsize=(22,6))\n",
    "sns.countplot(x = 'Occupation', hue = 'Income', data = df,palette='binary')"
   ]
  },
  {
   "cell_type": "markdown",
   "id": "655a950a",
   "metadata": {},
   "source": [
    "We have most of entries are prof-specialty and we have Armed-Forces less entries and in all these we have more entries have <=50 income"
   ]
  },
  {
   "cell_type": "code",
   "execution_count": 29,
   "id": "028fc67f",
   "metadata": {},
   "outputs": [
    {
     "data": {
      "text/plain": [
       " Prof-specialty       4140\n",
       " Craft-repair         4099\n",
       " Exec-managerial      4066\n",
       " Adm-clerical         3769\n",
       " Sales                3650\n",
       " Other-service        3295\n",
       " Machine-op-inspct    2002\n",
       " ?                    1843\n",
       " Transport-moving     1597\n",
       " Handlers-cleaners    1370\n",
       " Farming-fishing       994\n",
       " Tech-support          928\n",
       " Protective-serv       649\n",
       " Priv-house-serv       149\n",
       " Armed-Forces            9\n",
       "Name: Occupation, dtype: int64"
      ]
     },
     "execution_count": 29,
     "metadata": {},
     "output_type": "execute_result"
    }
   ],
   "source": [
    "df['Occupation'].value_counts()"
   ]
  },
  {
   "cell_type": "markdown",
   "id": "59061ad3",
   "metadata": {},
   "source": [
    "# Race"
   ]
  },
  {
   "cell_type": "code",
   "execution_count": 30,
   "id": "7afb0a05",
   "metadata": {},
   "outputs": [
    {
     "data": {
      "text/plain": [
       "<AxesSubplot:xlabel='Race', ylabel='count'>"
      ]
     },
     "execution_count": 30,
     "metadata": {},
     "output_type": "execute_result"
    },
    {
     "data": {
      "image/png": "[encoded data removed]",
      "text/plain": [
       "<Figure size 864x432 with 1 Axes>"
      ]
     },
     "metadata": {
      "needs_background": "light"
     },
     "output_type": "display_data"
    }
   ],
   "source": [
    "plt.figure(figsize=(12,6))\n",
    "sns.countplot(x = 'Race', hue = 'Income', data = df,palette='copper')"
   ]
  },
  {
   "cell_type": "markdown",
   "id": "0a0b1063",
   "metadata": {},
   "source": [
    "The dataset includes majority of information about White race while all other races are lesser in number. I'll combine all other race data into one class as Other."
   ]
  },
  {
   "cell_type": "markdown",
   "id": "552296c2",
   "metadata": {},
   "source": [
    "# Sex"
   ]
  },
  {
   "cell_type": "code",
   "execution_count": 31,
   "id": "5f0859a1",
   "metadata": {},
   "outputs": [
    {
     "data": {
      "text/plain": [
       "<AxesSubplot:xlabel='Sex', ylabel='count'>"
      ]
     },
     "execution_count": 31,
     "metadata": {},
     "output_type": "execute_result"
    },
    {
     "data": {
      "image/png": "[encoded data removed]",
      "text/plain": [
       "<Figure size 432x288 with 1 Axes>"
      ]
     },
     "metadata": {
      "needs_background": "light"
     },
     "output_type": "display_data"
    }
   ],
   "source": [
    "sns.countplot(x = 'Sex', hue = 'Income', data = df,palette='coolwarm_r')"
   ]
  },
  {
   "cell_type": "markdown",
   "id": "049200cd",
   "metadata": {},
   "source": [
    "There are more Male participants than Female participants\n",
    "\n",
    "When we compare the two genders and the corresponding income distribution, more percentage of Males have an Income of more than $50K than Females."
   ]
  },
  {
   "cell_type": "markdown",
   "id": "0ae5bbac",
   "metadata": {},
   "source": [
    "# Native_country"
   ]
  },
  {
   "cell_type": "code",
   "execution_count": 32,
   "id": "ee2c6d3c",
   "metadata": {},
   "outputs": [
    {
     "data": {
      "text/plain": [
       " United-States                 29169\n",
       " Mexico                          643\n",
       " ?                               583\n",
       " Philippines                     198\n",
       " Germany                         137\n",
       " Canada                          121\n",
       " Puerto-Rico                     114\n",
       " El-Salvador                     106\n",
       " India                           100\n",
       " Cuba                             95\n",
       " England                          90\n",
       " Jamaica                          81\n",
       " South                            80\n",
       " China                            75\n",
       " Italy                            73\n",
       " Dominican-Republic               70\n",
       " Vietnam                          67\n",
       " Guatemala                        64\n",
       " Japan                            62\n",
       " Poland                           60\n",
       " Columbia                         59\n",
       " Taiwan                           51\n",
       " Haiti                            44\n",
       " Iran                             43\n",
       " Portugal                         37\n",
       " Nicaragua                        34\n",
       " Peru                             31\n",
       " France                           29\n",
       " Greece                           29\n",
       " Ecuador                          28\n",
       " Ireland                          24\n",
       " Hong                             20\n",
       " Trinadad&Tobago                  19\n",
       " Cambodia                         19\n",
       " Thailand                         18\n",
       " Laos                             18\n",
       " Yugoslavia                       16\n",
       " Outlying-US(Guam-USVI-etc)       14\n",
       " Honduras                         13\n",
       " Hungary                          13\n",
       " Scotland                         12\n",
       " Holand-Netherlands                1\n",
       "Name: Native_country, dtype: int64"
      ]
     },
     "execution_count": 32,
     "metadata": {},
     "output_type": "execute_result"
    }
   ],
   "source": [
    "country_count = df['Native_country'].value_counts()\n",
    "country_count"
   ]
  },
  {
   "cell_type": "markdown",
   "id": "0cf9cbbd",
   "metadata": {},
   "source": [
    "There are some missing values in Country column denoted by ?. we have to fill the ? with mode value"
   ]
  },
  {
   "cell_type": "code",
   "execution_count": 33,
   "id": "ae67685f",
   "metadata": {},
   "outputs": [],
   "source": [
    "df = df.drop(df[df['Native_country'] == ' ?'].index)"
   ]
  },
  {
   "cell_type": "code",
   "execution_count": 34,
   "id": "2d739888",
   "metadata": {},
   "outputs": [],
   "source": [
    "Native_country = np.array(df['Native_country'].unique())\n",
    "Native_country = np.delete(Native_country, 0)"
   ]
  },
  {
   "cell_type": "code",
   "execution_count": 35,
   "id": "04132397",
   "metadata": {},
   "outputs": [],
   "source": [
    "df['Native_country'].replace(Native_country, 'Other', inplace = True)"
   ]
  },
  {
   "cell_type": "code",
   "execution_count": 36,
   "id": "ca407716",
   "metadata": {},
   "outputs": [
    {
     "data": {
      "text/plain": [
       "<AxesSubplot:xlabel='count', ylabel='Native_country'>"
      ]
     },
     "execution_count": 36,
     "metadata": {},
     "output_type": "execute_result"
    },
    {
     "data": {
      "image/png": "[encoded data removed]",
      "text/plain": [
       "<Figure size 432x288 with 1 Axes>"
      ]
     },
     "metadata": {
      "needs_background": "light"
     },
     "output_type": "display_data"
    }
   ],
   "source": [
    "sns.countplot(y = 'Native_country', hue = 'Income', data = df,palette='PuBuGn')"
   ]
  },
  {
   "cell_type": "code",
   "execution_count": 37,
   "id": "6e1d5ec4",
   "metadata": {},
   "outputs": [
    {
     "data": {
      "text/html": [
       "<div>\n",
       "<style scoped>\n",
       "    .dataframe tbody tr th:only-of-type {\n",
       "        vertical-align: middle;\n",
       "    }\n",
       "\n",
       "    .dataframe tbody tr th {\n",
       "        vertical-align: top;\n",
       "    }\n",
       "\n",
       "    .dataframe thead th {\n",
       "        text-align: right;\n",
       "    }\n",
       "</style>\n",
       "<table border=\"1\" class=\"dataframe\">\n",
       "  <thead>\n",
       "    <tr style=\"text-align: right;\">\n",
       "      <th></th>\n",
       "      <th>Age</th>\n",
       "      <th>Workclass</th>\n",
       "      <th>Education</th>\n",
       "      <th>Marital_status</th>\n",
       "      <th>Occupation</th>\n",
       "      <th>Relationship</th>\n",
       "      <th>Race</th>\n",
       "      <th>Sex</th>\n",
       "      <th>Hours_per_week</th>\n",
       "      <th>Native_country</th>\n",
       "      <th>Income</th>\n",
       "      <th>Capital_diff</th>\n",
       "    </tr>\n",
       "  </thead>\n",
       "  <tbody>\n",
       "    <tr>\n",
       "      <th>0</th>\n",
       "      <td>Adult</td>\n",
       "      <td>Self-emp-not-inc</td>\n",
       "      <td>Bachelors</td>\n",
       "      <td>Married-civ-spouse</td>\n",
       "      <td>Exec-managerial</td>\n",
       "      <td>Husband</td>\n",
       "      <td>White</td>\n",
       "      <td>Male</td>\n",
       "      <td>Lesser Hours</td>\n",
       "      <td>United-States</td>\n",
       "      <td>0</td>\n",
       "      <td>Minor</td>\n",
       "    </tr>\n",
       "    <tr>\n",
       "      <th>1</th>\n",
       "      <td>Adult</td>\n",
       "      <td>Private</td>\n",
       "      <td>HS-grad</td>\n",
       "      <td>Divorced</td>\n",
       "      <td>Handlers-cleaners</td>\n",
       "      <td>Not-in-family</td>\n",
       "      <td>White</td>\n",
       "      <td>Male</td>\n",
       "      <td>Normal Hours</td>\n",
       "      <td>United-States</td>\n",
       "      <td>0</td>\n",
       "      <td>Minor</td>\n",
       "    </tr>\n",
       "    <tr>\n",
       "      <th>2</th>\n",
       "      <td>Old</td>\n",
       "      <td>Private</td>\n",
       "      <td>School</td>\n",
       "      <td>Married-civ-spouse</td>\n",
       "      <td>Handlers-cleaners</td>\n",
       "      <td>Husband</td>\n",
       "      <td>Black</td>\n",
       "      <td>Male</td>\n",
       "      <td>Normal Hours</td>\n",
       "      <td>United-States</td>\n",
       "      <td>0</td>\n",
       "      <td>Minor</td>\n",
       "    </tr>\n",
       "    <tr>\n",
       "      <th>3</th>\n",
       "      <td>Adult</td>\n",
       "      <td>Private</td>\n",
       "      <td>Bachelors</td>\n",
       "      <td>Married-civ-spouse</td>\n",
       "      <td>Prof-specialty</td>\n",
       "      <td>Wife</td>\n",
       "      <td>Black</td>\n",
       "      <td>Female</td>\n",
       "      <td>Normal Hours</td>\n",
       "      <td>Other</td>\n",
       "      <td>0</td>\n",
       "      <td>Minor</td>\n",
       "    </tr>\n",
       "    <tr>\n",
       "      <th>4</th>\n",
       "      <td>Adult</td>\n",
       "      <td>Private</td>\n",
       "      <td>Masters</td>\n",
       "      <td>Married-civ-spouse</td>\n",
       "      <td>Exec-managerial</td>\n",
       "      <td>Wife</td>\n",
       "      <td>White</td>\n",
       "      <td>Female</td>\n",
       "      <td>Normal Hours</td>\n",
       "      <td>United-States</td>\n",
       "      <td>0</td>\n",
       "      <td>Minor</td>\n",
       "    </tr>\n",
       "    <tr>\n",
       "      <th>...</th>\n",
       "      <td>...</td>\n",
       "      <td>...</td>\n",
       "      <td>...</td>\n",
       "      <td>...</td>\n",
       "      <td>...</td>\n",
       "      <td>...</td>\n",
       "      <td>...</td>\n",
       "      <td>...</td>\n",
       "      <td>...</td>\n",
       "      <td>...</td>\n",
       "      <td>...</td>\n",
       "      <td>...</td>\n",
       "    </tr>\n",
       "    <tr>\n",
       "      <th>32555</th>\n",
       "      <td>Adult</td>\n",
       "      <td>Private</td>\n",
       "      <td>Assoc-acdm</td>\n",
       "      <td>Married-civ-spouse</td>\n",
       "      <td>Tech-support</td>\n",
       "      <td>Wife</td>\n",
       "      <td>White</td>\n",
       "      <td>Female</td>\n",
       "      <td>Normal Hours</td>\n",
       "      <td>United-States</td>\n",
       "      <td>0</td>\n",
       "      <td>Minor</td>\n",
       "    </tr>\n",
       "    <tr>\n",
       "      <th>32556</th>\n",
       "      <td>Adult</td>\n",
       "      <td>Private</td>\n",
       "      <td>HS-grad</td>\n",
       "      <td>Married-civ-spouse</td>\n",
       "      <td>Machine-op-inspct</td>\n",
       "      <td>Husband</td>\n",
       "      <td>White</td>\n",
       "      <td>Male</td>\n",
       "      <td>Normal Hours</td>\n",
       "      <td>United-States</td>\n",
       "      <td>1</td>\n",
       "      <td>Minor</td>\n",
       "    </tr>\n",
       "    <tr>\n",
       "      <th>32557</th>\n",
       "      <td>Old</td>\n",
       "      <td>Private</td>\n",
       "      <td>HS-grad</td>\n",
       "      <td>Widowed</td>\n",
       "      <td>Adm-clerical</td>\n",
       "      <td>Unmarried</td>\n",
       "      <td>White</td>\n",
       "      <td>Female</td>\n",
       "      <td>Normal Hours</td>\n",
       "      <td>United-States</td>\n",
       "      <td>0</td>\n",
       "      <td>Minor</td>\n",
       "    </tr>\n",
       "    <tr>\n",
       "      <th>32558</th>\n",
       "      <td>Young</td>\n",
       "      <td>Private</td>\n",
       "      <td>HS-grad</td>\n",
       "      <td>Never-married</td>\n",
       "      <td>Adm-clerical</td>\n",
       "      <td>Own-child</td>\n",
       "      <td>White</td>\n",
       "      <td>Male</td>\n",
       "      <td>Lesser Hours</td>\n",
       "      <td>United-States</td>\n",
       "      <td>0</td>\n",
       "      <td>Minor</td>\n",
       "    </tr>\n",
       "    <tr>\n",
       "      <th>32559</th>\n",
       "      <td>Old</td>\n",
       "      <td>Self-emp-inc</td>\n",
       "      <td>HS-grad</td>\n",
       "      <td>Married-civ-spouse</td>\n",
       "      <td>Exec-managerial</td>\n",
       "      <td>Wife</td>\n",
       "      <td>White</td>\n",
       "      <td>Female</td>\n",
       "      <td>Normal Hours</td>\n",
       "      <td>United-States</td>\n",
       "      <td>1</td>\n",
       "      <td>Major</td>\n",
       "    </tr>\n",
       "  </tbody>\n",
       "</table>\n",
       "<p>31977 rows × 12 columns</p>\n",
       "</div>"
      ],
      "text/plain": [
       "         Age          Workclass    Education       Marital_status  \\\n",
       "0      Adult   Self-emp-not-inc    Bachelors   Married-civ-spouse   \n",
       "1      Adult            Private      HS-grad             Divorced   \n",
       "2        Old            Private       School   Married-civ-spouse   \n",
       "3      Adult            Private    Bachelors   Married-civ-spouse   \n",
       "4      Adult            Private      Masters   Married-civ-spouse   \n",
       "...      ...                ...          ...                  ...   \n",
       "32555  Adult            Private   Assoc-acdm   Married-civ-spouse   \n",
       "32556  Adult            Private      HS-grad   Married-civ-spouse   \n",
       "32557    Old            Private      HS-grad              Widowed   \n",
       "32558  Young            Private      HS-grad        Never-married   \n",
       "32559    Old       Self-emp-inc      HS-grad   Married-civ-spouse   \n",
       "\n",
       "               Occupation    Relationship    Race      Sex Hours_per_week  \\\n",
       "0         Exec-managerial         Husband   White     Male   Lesser Hours   \n",
       "1       Handlers-cleaners   Not-in-family   White     Male   Normal Hours   \n",
       "2       Handlers-cleaners         Husband   Black     Male   Normal Hours   \n",
       "3          Prof-specialty            Wife   Black   Female   Normal Hours   \n",
       "4         Exec-managerial            Wife   White   Female   Normal Hours   \n",
       "...                   ...             ...     ...      ...            ...   \n",
       "32555        Tech-support            Wife   White   Female   Normal Hours   \n",
       "32556   Machine-op-inspct         Husband   White     Male   Normal Hours   \n",
       "32557        Adm-clerical       Unmarried   White   Female   Normal Hours   \n",
       "32558        Adm-clerical       Own-child   White     Male   Lesser Hours   \n",
       "32559     Exec-managerial            Wife   White   Female   Normal Hours   \n",
       "\n",
       "       Native_country  Income Capital_diff  \n",
       "0       United-States       0        Minor  \n",
       "1       United-States       0        Minor  \n",
       "2       United-States       0        Minor  \n",
       "3               Other       0        Minor  \n",
       "4       United-States       0        Minor  \n",
       "...               ...     ...          ...  \n",
       "32555   United-States       0        Minor  \n",
       "32556   United-States       1        Minor  \n",
       "32557   United-States       0        Minor  \n",
       "32558   United-States       0        Minor  \n",
       "32559   United-States       1        Major  \n",
       "\n",
       "[31977 rows x 12 columns]"
      ]
     },
     "execution_count": 37,
     "metadata": {},
     "output_type": "execute_result"
    }
   ],
   "source": [
    "df"
   ]
  },
  {
   "cell_type": "markdown",
   "id": "3e074121",
   "metadata": {},
   "source": [
    "In this subsection, we can take all the remaining columns and create important numerical values out of them.\n",
    "\n",
    "we will use the get_dummies method of pandas to get separate columns for each feature based on the unqiue values in the dataset."
   ]
  },
  {
   "cell_type": "code",
   "execution_count": 38,
   "id": "b725d5c6",
   "metadata": {},
   "outputs": [
    {
     "name": "stdout",
     "output_type": "stream",
     "text": [
      "Total features: 63\n"
     ]
    }
   ],
   "source": [
    "y = df['Income']\n",
    "x = df.drop(['Income'], axis = 1)\n",
    "x = pd.get_dummies(x)\n",
    "print(\"Total features: {}\".format(x.shape[1]))"
   ]
  },
  {
   "cell_type": "markdown",
   "id": "22712a40",
   "metadata": {},
   "source": [
    "# Train_test_split"
   ]
  },
  {
   "cell_type": "code",
   "execution_count": 39,
   "id": "8c573665",
   "metadata": {},
   "outputs": [],
   "source": [
    "x_train, x_test, y_train, y_test = train_test_split(x, y, test_size = 0.30, random_state = 25)"
   ]
  },
  {
   "cell_type": "code",
   "execution_count": 40,
   "id": "09e02ac2",
   "metadata": {},
   "outputs": [
    {
     "data": {
      "text/plain": [
       "(22383, 63)"
      ]
     },
     "execution_count": 40,
     "metadata": {},
     "output_type": "execute_result"
    }
   ],
   "source": [
    "x_train.shape"
   ]
  },
  {
   "cell_type": "code",
   "execution_count": 41,
   "id": "91e7d299",
   "metadata": {},
   "outputs": [
    {
     "data": {
      "text/plain": [
       "(9594, 63)"
      ]
     },
     "execution_count": 41,
     "metadata": {},
     "output_type": "execute_result"
    }
   ],
   "source": [
    "x_test.shape"
   ]
  },
  {
   "cell_type": "code",
   "execution_count": 42,
   "id": "f5e30892",
   "metadata": {},
   "outputs": [
    {
     "data": {
      "text/plain": [
       "(22383,)"
      ]
     },
     "execution_count": 42,
     "metadata": {},
     "output_type": "execute_result"
    }
   ],
   "source": [
    "y_train.shape"
   ]
  },
  {
   "cell_type": "code",
   "execution_count": 43,
   "id": "2c15ff92",
   "metadata": {},
   "outputs": [
    {
     "data": {
      "text/plain": [
       "(9594,)"
      ]
     },
     "execution_count": 43,
     "metadata": {},
     "output_type": "execute_result"
    }
   ],
   "source": [
    "y_test.shape"
   ]
  },
  {
   "cell_type": "code",
   "execution_count": 44,
   "id": "f5597471",
   "metadata": {},
   "outputs": [],
   "source": [
    "model = [GaussianNB(),LogisticRegression(),\n",
    "               SVC(), \n",
    "               DecisionTreeClassifier(), \n",
    "               RandomForestClassifier(), \n",
    "               GradientBoostingClassifier()]\n",
    "model_names = [\"Gaussian Naive Bayes\",\n",
    "                \"LogisticRegression\",\n",
    "                    \"Support Vector Classifier\", \n",
    "                    \"Decision Tree Classifier\", \n",
    "                    \"Random Forest Classifier\", \n",
    "                    \"Gradient Boosting Classifier\"]\n",
    "accuracies = []"
   ]
  },
  {
   "cell_type": "code",
   "execution_count": 45,
   "id": "75c33d44",
   "metadata": {},
   "outputs": [
    {
     "name": "stdout",
     "output_type": "stream",
     "text": [
      "Gaussian Naive Bayes:\n",
      "F1 score: 0.56\n",
      "accuracy score: 0.6436314363143631\n",
      "confusion matrix: [[3976 3280]\n",
      " [ 139 2199]]\n",
      "classification report:               precision    recall  f1-score   support\n",
      "\n",
      "           0       0.97      0.55      0.70      7256\n",
      "           1       0.40      0.94      0.56      2338\n",
      "\n",
      "    accuracy                           0.64      9594\n",
      "   macro avg       0.68      0.74      0.63      9594\n",
      "weighted avg       0.83      0.64      0.67      9594\n",
      "\n",
      "Cross validation score: 0.6722010189128174\n",
      "******************************************************************\n",
      "LogisticRegression:\n",
      "F1 score: 0.64\n",
      "accuracy score: 0.8439649781113195\n",
      "confusion matrix: [[6785  471]\n",
      " [1026 1312]]\n",
      "classification report:               precision    recall  f1-score   support\n",
      "\n",
      "           0       0.87      0.94      0.90      7256\n",
      "           1       0.74      0.56      0.64      2338\n",
      "\n",
      "    accuracy                           0.84      9594\n",
      "   macro avg       0.80      0.75      0.77      9594\n",
      "weighted avg       0.84      0.84      0.84      9594\n",
      "\n",
      "Cross validation score: 0.8503301956216772\n",
      "******************************************************************\n",
      "Support Vector Classifier:\n",
      "F1 score: 0.63\n",
      "accuracy score: 0.8426099645611841\n",
      "confusion matrix: [[6819  437]\n",
      " [1073 1265]]\n",
      "classification report:               precision    recall  f1-score   support\n",
      "\n",
      "           0       0.86      0.94      0.90      7256\n",
      "           1       0.74      0.54      0.63      2338\n",
      "\n",
      "    accuracy                           0.84      9594\n",
      "   macro avg       0.80      0.74      0.76      9594\n",
      "weighted avg       0.83      0.84      0.83      9594\n",
      "\n",
      "Cross validation score: 0.8511120515607633\n",
      "******************************************************************\n",
      "Decision Tree Classifier:\n",
      "F1 score: 0.59\n",
      "accuracy score: 0.8187408797164895\n",
      "confusion matrix: [[6579  677]\n",
      " [1062 1276]]\n",
      "classification report:               precision    recall  f1-score   support\n",
      "\n",
      "           0       0.86      0.91      0.88      7256\n",
      "           1       0.65      0.55      0.59      2338\n",
      "\n",
      "    accuracy                           0.82      9594\n",
      "   macro avg       0.76      0.73      0.74      9594\n",
      "weighted avg       0.81      0.82      0.81      9594\n",
      "\n",
      "Cross validation score: 0.8275949540393942\n",
      "******************************************************************\n",
      "Random Forest Classifier:\n",
      "F1 score: 0.63\n",
      "accuracy score: 0.832812174275589\n",
      "confusion matrix: [[6625  631]\n",
      " [ 973 1365]]\n",
      "classification report:               precision    recall  f1-score   support\n",
      "\n",
      "           0       0.87      0.91      0.89      7256\n",
      "           1       0.68      0.58      0.63      2338\n",
      "\n",
      "    accuracy                           0.83      9594\n",
      "   macro avg       0.78      0.75      0.76      9594\n",
      "weighted avg       0.83      0.83      0.83      9594\n",
      "\n",
      "Cross validation score: 0.8391032902209699\n",
      "******************************************************************\n",
      "Gradient Boosting Classifier:\n",
      "F1 score: 0.63\n",
      "accuracy score: 0.8427141963727329\n",
      "confusion matrix: [[6818  438]\n",
      " [1071 1267]]\n",
      "classification report:               precision    recall  f1-score   support\n",
      "\n",
      "           0       0.86      0.94      0.90      7256\n",
      "           1       0.74      0.54      0.63      2338\n",
      "\n",
      "    accuracy                           0.84      9594\n",
      "   macro avg       0.80      0.74      0.76      9594\n",
      "weighted avg       0.83      0.84      0.83      9594\n",
      "\n",
      "Cross validation score: 0.8503301956216772\n",
      "******************************************************************\n"
     ]
    }
   ],
   "source": [
    "for i in range(len(model)):\n",
    "    classifier = model[i]\n",
    "    classifier.fit(x_train, y_train)\n",
    "    pred = classifier.predict(x_test)\n",
    "    print(\"{}:\".format(model_names[i]))\n",
    "    print(\"F1 score: {:.2f}\".format(f1_score(y_test, pred)))\n",
    "    print(\"accuracy score:\",accuracy_score(y_test,pred))\n",
    "    print(\"confusion matrix:\",confusion_matrix(y_test,pred))\n",
    "    print(\"classification report:\",classification_report(y_test,pred))\n",
    "    accuracy = accuracy_score(y_test, pred)*100\n",
    "    accuracies.append(accuracy)\n",
    "    scr=cross_val_score(classifier,x,y,cv=5)\n",
    "    print(\"Cross validation score:\",scr.mean())\n",
    "    print(\"******************************************************************\")"
   ]
  },
  {
   "cell_type": "markdown",
   "id": "60033829",
   "metadata": {},
   "source": [
    "# Accuracy Plot"
   ]
  },
  {
   "cell_type": "code",
   "execution_count": 46,
   "id": "1b3cb4a6",
   "metadata": {},
   "outputs": [
    {
     "data": {
      "image/png": "[encoded data removed]",
      "text/plain": [
       "<Figure size 1152x720 with 1 Axes>"
      ]
     },
     "metadata": {
      "needs_background": "light"
     },
     "output_type": "display_data"
    }
   ],
   "source": [
    "from matplotlib.cm import rainbow\n",
    "\n",
    "plt.figure(figsize = (16, 10))\n",
    "colors = rainbow(np.linspace(0, 1, len(model)))\n",
    "barplot = plt.bar(model_names, accuracies, color = colors)\n",
    "plt.yticks([0, 10, 20, 30, 40, 50, 60, 70, 80, 90, 100], fontsize = 16)\n",
    "plt.xticks(fontsize = 14)\n",
    "plt.xlabel(\"models\", fontsize = 16)\n",
    "plt.ylabel(\"Accuracy\", fontsize = 16)\n",
    "plt.title(\"Plot for accuracy of all models\", fontsize = 16)\n",
    "for i, bar in enumerate(barplot):\n",
    "    plt.text(bar.get_x() + bar.get_width()/2 - 0.1, \n",
    "             bar.get_height()*1.02, \n",
    "             s = '{:.2f}%'.format(accuracies[i]), \n",
    "             fontsize = 16)"
   ]
  },
  {
   "cell_type": "markdown",
   "id": "a0ad03a1",
   "metadata": {},
   "source": [
    "As we can observe except Gaussian Naive Bayes all the models has above 80% accuracy\n",
    "\n",
    "In all model we are getting same result, to know which model is best we have to check difference of cross validation score and accuracy score then we can know which is the best model\n",
    "\n",
    "here we can clearly see that RandomForestclassifier"
   ]
  },
  {
   "cell_type": "markdown",
   "id": "75e525d1",
   "metadata": {},
   "source": [
    "# ROC Curve"
   ]
  },
  {
   "cell_type": "markdown",
   "id": "08955ca0",
   "metadata": {},
   "source": [
    "Let's also analyse the ROC Curve for the predictions for income more than $50K."
   ]
  },
  {
   "cell_type": "code",
   "execution_count": 47,
   "id": "747e05bb",
   "metadata": {},
   "outputs": [
    {
     "data": {
      "text/plain": [
       "<matplotlib.legend.Legend at 0x12b01060fd0>"
      ]
     },
     "execution_count": 47,
     "metadata": {},
     "output_type": "execute_result"
    },
    {
     "data": {
      "image/png": "[encoded data removed]",
      "text/plain": [
       "<Figure size 1440x864 with 1 Axes>"
      ]
     },
     "metadata": {
      "needs_background": "light"
     },
     "output_type": "display_data"
    }
   ],
   "source": [
    "from sklearn.metrics import roc_curve, auc\n",
    "\n",
    "models = [GaussianNB(), \n",
    "               SVC(kernel = 'rbf', probability = True), \n",
    "               DecisionTreeClassifier(), \n",
    "               RandomForestClassifier(), \n",
    "               GradientBoostingClassifier()]\n",
    "plt.figure(figsize = (20, 12))\n",
    "plt.plot([0,1], [0,1], 'r--')\n",
    "\n",
    "for i in range(len(models)):\n",
    "    classifier = models[i]\n",
    "    classifier.fit(x_train, y_train)\n",
    "    probs = classifier.predict_proba(x_test)\n",
    "    # Reading probability of second class\n",
    "    probs = probs[:, 1]\n",
    "    fpr, tpr, thresholds = roc_curve(y_test, probs)\n",
    "    roc_auc = auc(fpr, tpr)\n",
    "    label = model_names[i] + ' AUC:' + ' {0:.2f}'.format(roc_auc)\n",
    "    plt.plot(fpr, tpr, c = colors[i], label = label, linewidth = 4)\n",
    "    \n",
    "plt.xlabel('False Positive Rate', fontsize = 16)\n",
    "plt.ylabel('True Positive Rate', fontsize = 16)\n",
    "plt.title('Receiver Operating Characteristic', fontsize = 16)\n",
    "plt.legend(loc = 'lower right', fontsize = 16)"
   ]
  },
  {
   "cell_type": "markdown",
   "id": "29da9090",
   "metadata": {},
   "source": [
    "Here random Forest Classifier has the maximum Area Under Curve with a value of 0.90."
   ]
  },
  {
   "cell_type": "markdown",
   "id": "c0c3f857",
   "metadata": {},
   "source": [
    "# Hyper parameter tuning"
   ]
  },
  {
   "cell_type": "code",
   "execution_count": null,
   "id": "3bbd0ffa",
   "metadata": {},
   "outputs": [
    {
     "name": "stdout",
     "output_type": "stream",
     "text": [
      "Fitting 8 folds for each of 640 candidates, totalling 5120 fits\n"
     ]
    }
   ],
   "source": [
    "from sklearn.model_selection import GridSearchCV\n",
    "\n",
    "parameters = {\"n_estimators\":[100,200,300,400,500,600,700,800],\"criterion\":[\"gini\",\"entropy\"]\n",
    "              ,\"min_samples_split\":[2,5,8,10],'max_features': ['auto', 'log2'],\n",
    "             \"min_samples_leaf\":[1,3,5,6,7]}\n",
    "\n",
    "gcv_rf= GridSearchCV(RandomForestClassifier(),parameters,n_jobs=-1,cv=8,verbose=2)\n",
    "\n",
    "gcv_rf.fit(x_train,y_train)"
   ]
  },
  {
   "cell_type": "markdown",
   "id": "83d9d0a5",
   "metadata": {},
   "source": [
    "GridSearchCV(cv=5, estimator=DecisionTreeClassifier(),\n",
    "             \n",
    "             param_grid={'criterion': ['gini', 'entropy'],\n",
    "                         \n",
    "                         'max_depth': [10, 20, 30, 40, 50],\n",
    "                         \n",
    "                         'max_features': ['auto', 'sqrt', 'log2'],\n",
    "                         \n",
    "                         'splitter': ['best', 'random']})"
   ]
  },
  {
   "cell_type": "code",
   "execution_count": null,
   "id": "d347b29f",
   "metadata": {},
   "outputs": [],
   "source": [
    "gcv_rf.best_params_"
   ]
  },
  {
   "cell_type": "markdown",
   "id": "15c25ca1",
   "metadata": {},
   "source": [
    "{'criterion': 'entropy',\n",
    " \n",
    " \n",
    " 'max_depth': 20,\n",
    " \n",
    " 'max_features': 'sqrt',\n",
    " \n",
    " 'splitter': 'best'}"
   ]
  },
  {
   "cell_type": "code",
   "execution_count": null,
   "id": "b5bbfaee",
   "metadata": {},
   "outputs": [],
   "source": [
    "gcv_pred=gcv_rf.predict(x_test)\n",
    "print(accuracy_score(y_test,gcv_pred)*100)"
   ]
  },
  {
   "cell_type": "markdown",
   "id": "7b2e5e0c",
   "metadata": {},
   "source": [
    "# Saving the model"
   ]
  },
  {
   "cell_type": "code",
   "execution_count": null,
   "id": "59ff25b4",
   "metadata": {},
   "outputs": [],
   "source": [
    "# Saving the model using .pkl\n",
    "import joblib\n",
    "joblib.dump(census,\"Census Income Prediction.pkl\")"
   ]
  },
  {
   "cell_type": "markdown",
   "id": "67c8ec97",
   "metadata": {},
   "source": [
    "['Census Income Prediction.pkl']"
   ]
  },
  {
   "cell_type": "markdown",
   "id": "ad847627",
   "metadata": {},
   "source": [
    "# Loading the saved model"
   ]
  },
  {
   "cell_type": "code",
   "execution_count": null,
   "id": "18d9366f",
   "metadata": {},
   "outputs": [],
   "source": [
    "model=joblib.load(\"Census-income-project.pkl\")\n",
    "prediction=model.predict(x_test)\n",
    "print(accuracy_score(y_test,prediction)*100)"
   ]
  },
  {
   "cell_type": "code",
   "execution_count": null,
   "id": "a8a2a82d",
   "metadata": {},
   "outputs": [],
   "source": []
  }
 ],
 "metadata": {
  "kernelspec": {
   "display_name": "Python 3 (ipykernel)",
   "language": "python",
   "name": "python3"
  },
  "language_info": {
   "codemirror_mode": {
    "name": "ipython",
    "version": 3
   },
   "file_extension": ".py",
   "mimetype": "text/x-python",
   "name": "python",
   "nbconvert_exporter": "python",
   "pygments_lexer": "ipython3",
   "version": "3.9.7"
  }
 },
 "nbformat": 4,
 "nbformat_minor": 5
}
